{
 "cells": [
  {
   "cell_type": "code",
   "execution_count": 1,
   "metadata": {},
   "outputs": [],
   "source": [
    "import pandas as pd \n",
    "import numpy as np\n",
    "import matplotlib.pyplot as plt\n",
    "import seaborn as sns\n",
    "from ipywidgets import interact"
   ]
  },
  {
   "cell_type": "code",
   "execution_count": 2,
   "metadata": {},
   "outputs": [],
   "source": [
    "from sklearn import model_selection\n",
    "from sklearn.linear_model import LogisticRegression\n",
    "from sklearn.tree import DecisionTreeClassifier\n",
    "from sklearn.svm import SVC\n",
    "from sklearn.ensemble import VotingClassifier"
   ]
  },
  {
   "cell_type": "code",
   "execution_count": 3,
   "metadata": {},
   "outputs": [],
   "source": [
    "df = pd.read_csv(\"data.csv\")"
   ]
  },
  {
   "cell_type": "code",
   "execution_count": 4,
   "metadata": {
    "scrolled": false
   },
   "outputs": [
    {
     "data": {
      "text/html": [
       "<div>\n",
       "<style scoped>\n",
       "    .dataframe tbody tr th:only-of-type {\n",
       "        vertical-align: middle;\n",
       "    }\n",
       "\n",
       "    .dataframe tbody tr th {\n",
       "        vertical-align: top;\n",
       "    }\n",
       "\n",
       "    .dataframe thead th {\n",
       "        text-align: right;\n",
       "    }\n",
       "</style>\n",
       "<table border=\"1\" class=\"dataframe\">\n",
       "  <thead>\n",
       "    <tr style=\"text-align: right;\">\n",
       "      <th></th>\n",
       "      <th>N</th>\n",
       "      <th>P</th>\n",
       "      <th>K</th>\n",
       "      <th>temperature</th>\n",
       "      <th>humidity</th>\n",
       "      <th>ph</th>\n",
       "      <th>rainfall</th>\n",
       "      <th>label</th>\n",
       "    </tr>\n",
       "  </thead>\n",
       "  <tbody>\n",
       "    <tr>\n",
       "      <th>170</th>\n",
       "      <td>99</td>\n",
       "      <td>39</td>\n",
       "      <td>18</td>\n",
       "      <td>19.201294</td>\n",
       "      <td>68.305790</td>\n",
       "      <td>6.112751</td>\n",
       "      <td>87.850924</td>\n",
       "      <td>maize</td>\n",
       "    </tr>\n",
       "    <tr>\n",
       "      <th>2179</th>\n",
       "      <td>109</td>\n",
       "      <td>23</td>\n",
       "      <td>25</td>\n",
       "      <td>25.117110</td>\n",
       "      <td>68.480304</td>\n",
       "      <td>7.007332</td>\n",
       "      <td>194.877348</td>\n",
       "      <td>coffee</td>\n",
       "    </tr>\n",
       "    <tr>\n",
       "      <th>694</th>\n",
       "      <td>4</td>\n",
       "      <td>40</td>\n",
       "      <td>21</td>\n",
       "      <td>28.797281</td>\n",
       "      <td>80.457444</td>\n",
       "      <td>6.725551</td>\n",
       "      <td>44.300705</td>\n",
       "      <td>mungbean</td>\n",
       "    </tr>\n",
       "    <tr>\n",
       "      <th>1277</th>\n",
       "      <td>16</td>\n",
       "      <td>130</td>\n",
       "      <td>201</td>\n",
       "      <td>29.120338</td>\n",
       "      <td>82.790929</td>\n",
       "      <td>5.682395</td>\n",
       "      <td>68.850305</td>\n",
       "      <td>grapes</td>\n",
       "    </tr>\n",
       "    <tr>\n",
       "      <th>1669</th>\n",
       "      <td>39</td>\n",
       "      <td>9</td>\n",
       "      <td>15</td>\n",
       "      <td>25.354676</td>\n",
       "      <td>91.811832</td>\n",
       "      <td>7.992042</td>\n",
       "      <td>116.755594</td>\n",
       "      <td>orange</td>\n",
       "    </tr>\n",
       "    <tr>\n",
       "      <th>383</th>\n",
       "      <td>14</td>\n",
       "      <td>59</td>\n",
       "      <td>15</td>\n",
       "      <td>21.351357</td>\n",
       "      <td>22.912449</td>\n",
       "      <td>5.779090</td>\n",
       "      <td>146.454865</td>\n",
       "      <td>kidneybeans</td>\n",
       "    </tr>\n",
       "    <tr>\n",
       "      <th>2061</th>\n",
       "      <td>84</td>\n",
       "      <td>40</td>\n",
       "      <td>43</td>\n",
       "      <td>25.011576</td>\n",
       "      <td>88.331302</td>\n",
       "      <td>7.228268</td>\n",
       "      <td>169.416801</td>\n",
       "      <td>jute</td>\n",
       "    </tr>\n",
       "    <tr>\n",
       "      <th>601</th>\n",
       "      <td>8</td>\n",
       "      <td>54</td>\n",
       "      <td>20</td>\n",
       "      <td>28.334043</td>\n",
       "      <td>80.772760</td>\n",
       "      <td>7.034214</td>\n",
       "      <td>38.797641</td>\n",
       "      <td>mungbean</td>\n",
       "    </tr>\n",
       "    <tr>\n",
       "      <th>1284</th>\n",
       "      <td>28</td>\n",
       "      <td>145</td>\n",
       "      <td>202</td>\n",
       "      <td>19.207771</td>\n",
       "      <td>82.904284</td>\n",
       "      <td>6.484323</td>\n",
       "      <td>66.831137</td>\n",
       "      <td>grapes</td>\n",
       "    </tr>\n",
       "    <tr>\n",
       "      <th>1556</th>\n",
       "      <td>27</td>\n",
       "      <td>138</td>\n",
       "      <td>201</td>\n",
       "      <td>23.666821</td>\n",
       "      <td>93.901911</td>\n",
       "      <td>5.952368</td>\n",
       "      <td>105.400475</td>\n",
       "      <td>apple</td>\n",
       "    </tr>\n",
       "    <tr>\n",
       "      <th>308</th>\n",
       "      <td>17</td>\n",
       "      <td>59</td>\n",
       "      <td>17</td>\n",
       "      <td>18.416700</td>\n",
       "      <td>23.428299</td>\n",
       "      <td>5.689858</td>\n",
       "      <td>132.980105</td>\n",
       "      <td>kidneybeans</td>\n",
       "    </tr>\n",
       "    <tr>\n",
       "      <th>169</th>\n",
       "      <td>96</td>\n",
       "      <td>54</td>\n",
       "      <td>22</td>\n",
       "      <td>25.701967</td>\n",
       "      <td>61.334504</td>\n",
       "      <td>6.960358</td>\n",
       "      <td>83.207113</td>\n",
       "      <td>maize</td>\n",
       "    </tr>\n",
       "    <tr>\n",
       "      <th>1968</th>\n",
       "      <td>109</td>\n",
       "      <td>36</td>\n",
       "      <td>18</td>\n",
       "      <td>25.400592</td>\n",
       "      <td>76.532380</td>\n",
       "      <td>7.524708</td>\n",
       "      <td>62.513887</td>\n",
       "      <td>cotton</td>\n",
       "    </tr>\n",
       "    <tr>\n",
       "      <th>17</th>\n",
       "      <td>91</td>\n",
       "      <td>35</td>\n",
       "      <td>39</td>\n",
       "      <td>23.793920</td>\n",
       "      <td>80.418180</td>\n",
       "      <td>6.970860</td>\n",
       "      <td>206.261186</td>\n",
       "      <td>rice</td>\n",
       "    </tr>\n",
       "    <tr>\n",
       "      <th>466</th>\n",
       "      <td>29</td>\n",
       "      <td>78</td>\n",
       "      <td>25</td>\n",
       "      <td>19.959917</td>\n",
       "      <td>59.331578</td>\n",
       "      <td>5.982855</td>\n",
       "      <td>195.787103</td>\n",
       "      <td>pigeonpeas</td>\n",
       "    </tr>\n",
       "    <tr>\n",
       "      <th>225</th>\n",
       "      <td>22</td>\n",
       "      <td>67</td>\n",
       "      <td>78</td>\n",
       "      <td>17.166064</td>\n",
       "      <td>14.424575</td>\n",
       "      <td>6.204091</td>\n",
       "      <td>72.326675</td>\n",
       "      <td>chickpea</td>\n",
       "    </tr>\n",
       "    <tr>\n",
       "      <th>985</th>\n",
       "      <td>39</td>\n",
       "      <td>25</td>\n",
       "      <td>36</td>\n",
       "      <td>18.902230</td>\n",
       "      <td>94.998975</td>\n",
       "      <td>5.567805</td>\n",
       "      <td>107.610321</td>\n",
       "      <td>pomegranate</td>\n",
       "    </tr>\n",
       "    <tr>\n",
       "      <th>364</th>\n",
       "      <td>25</td>\n",
       "      <td>76</td>\n",
       "      <td>24</td>\n",
       "      <td>15.330426</td>\n",
       "      <td>24.915067</td>\n",
       "      <td>5.565035</td>\n",
       "      <td>135.331558</td>\n",
       "      <td>kidneybeans</td>\n",
       "    </tr>\n",
       "    <tr>\n",
       "      <th>63</th>\n",
       "      <td>70</td>\n",
       "      <td>36</td>\n",
       "      <td>42</td>\n",
       "      <td>21.841069</td>\n",
       "      <td>80.728864</td>\n",
       "      <td>6.946210</td>\n",
       "      <td>202.383832</td>\n",
       "      <td>rice</td>\n",
       "    </tr>\n",
       "    <tr>\n",
       "      <th>378</th>\n",
       "      <td>36</td>\n",
       "      <td>68</td>\n",
       "      <td>20</td>\n",
       "      <td>17.061045</td>\n",
       "      <td>23.772015</td>\n",
       "      <td>5.864430</td>\n",
       "      <td>81.834205</td>\n",
       "      <td>kidneybeans</td>\n",
       "    </tr>\n",
       "  </tbody>\n",
       "</table>\n",
       "</div>"
      ],
      "text/plain": [
       "        N    P    K  temperature   humidity        ph    rainfall        label\n",
       "170    99   39   18    19.201294  68.305790  6.112751   87.850924        maize\n",
       "2179  109   23   25    25.117110  68.480304  7.007332  194.877348       coffee\n",
       "694     4   40   21    28.797281  80.457444  6.725551   44.300705     mungbean\n",
       "1277   16  130  201    29.120338  82.790929  5.682395   68.850305       grapes\n",
       "1669   39    9   15    25.354676  91.811832  7.992042  116.755594       orange\n",
       "383    14   59   15    21.351357  22.912449  5.779090  146.454865  kidneybeans\n",
       "2061   84   40   43    25.011576  88.331302  7.228268  169.416801         jute\n",
       "601     8   54   20    28.334043  80.772760  7.034214   38.797641     mungbean\n",
       "1284   28  145  202    19.207771  82.904284  6.484323   66.831137       grapes\n",
       "1556   27  138  201    23.666821  93.901911  5.952368  105.400475        apple\n",
       "308    17   59   17    18.416700  23.428299  5.689858  132.980105  kidneybeans\n",
       "169    96   54   22    25.701967  61.334504  6.960358   83.207113        maize\n",
       "1968  109   36   18    25.400592  76.532380  7.524708   62.513887       cotton\n",
       "17     91   35   39    23.793920  80.418180  6.970860  206.261186         rice\n",
       "466    29   78   25    19.959917  59.331578  5.982855  195.787103   pigeonpeas\n",
       "225    22   67   78    17.166064  14.424575  6.204091   72.326675     chickpea\n",
       "985    39   25   36    18.902230  94.998975  5.567805  107.610321  pomegranate\n",
       "364    25   76   24    15.330426  24.915067  5.565035  135.331558  kidneybeans\n",
       "63     70   36   42    21.841069  80.728864  6.946210  202.383832         rice\n",
       "378    36   68   20    17.061045  23.772015  5.864430   81.834205  kidneybeans"
      ]
     },
     "execution_count": 4,
     "metadata": {},
     "output_type": "execute_result"
    }
   ],
   "source": [
    "df.sample(20)"
   ]
  },
  {
   "cell_type": "code",
   "execution_count": null,
   "metadata": {},
   "outputs": [],
   "source": []
  },
  {
   "cell_type": "code",
   "execution_count": 5,
   "metadata": {},
   "outputs": [
    {
     "data": {
      "text/plain": [
       "(2200, 8)"
      ]
     },
     "execution_count": 5,
     "metadata": {},
     "output_type": "execute_result"
    }
   ],
   "source": [
    "df.shape"
   ]
  },
  {
   "cell_type": "code",
   "execution_count": 6,
   "metadata": {},
   "outputs": [
    {
     "data": {
      "text/plain": [
       "(2200, 8)"
      ]
     },
     "execution_count": 6,
     "metadata": {},
     "output_type": "execute_result"
    }
   ],
   "source": [
    "df.shape"
   ]
  },
  {
   "cell_type": "code",
   "execution_count": 7,
   "metadata": {},
   "outputs": [
    {
     "name": "stdout",
     "output_type": "stream",
     "text": [
      "<class 'pandas.core.frame.DataFrame'>\n",
      "RangeIndex: 2200 entries, 0 to 2199\n",
      "Data columns (total 8 columns):\n",
      " #   Column       Non-Null Count  Dtype  \n",
      "---  ------       --------------  -----  \n",
      " 0   N            2200 non-null   int64  \n",
      " 1   P            2200 non-null   int64  \n",
      " 2   K            2200 non-null   int64  \n",
      " 3   temperature  2200 non-null   float64\n",
      " 4   humidity     2200 non-null   float64\n",
      " 5   ph           2200 non-null   float64\n",
      " 6   rainfall     2200 non-null   float64\n",
      " 7   label        2200 non-null   object \n",
      "dtypes: float64(4), int64(3), object(1)\n",
      "memory usage: 137.6+ KB\n"
     ]
    }
   ],
   "source": [
    "df.info()"
   ]
  },
  {
   "cell_type": "code",
   "execution_count": 8,
   "metadata": {},
   "outputs": [
    {
     "data": {
      "text/plain": [
       "N              0\n",
       "P              0\n",
       "K              0\n",
       "temperature    0\n",
       "humidity       0\n",
       "ph             0\n",
       "rainfall       0\n",
       "label          0\n",
       "dtype: int64"
      ]
     },
     "execution_count": 8,
     "metadata": {},
     "output_type": "execute_result"
    }
   ],
   "source": [
    "df.isnull().sum()"
   ]
  },
  {
   "cell_type": "markdown",
   "metadata": {},
   "source": [
    " <img src='info.jpeg'/>"
   ]
  },
  {
   "cell_type": "code",
   "execution_count": null,
   "metadata": {},
   "outputs": [],
   "source": []
  },
  {
   "cell_type": "code",
   "execution_count": 9,
   "metadata": {},
   "outputs": [
    {
     "data": {
      "text/plain": [
       "array(['rice', 'maize', 'chickpea', 'kidneybeans', 'pigeonpeas',\n",
       "       'mothbeans', 'mungbean', 'blackgram', 'lentil', 'pomegranate',\n",
       "       'banana', 'mango', 'grapes', 'watermelon', 'muskmelon', 'apple',\n",
       "       'orange', 'papaya', 'coconut', 'cotton', 'jute', 'coffee'],\n",
       "      dtype=object)"
      ]
     },
     "execution_count": 9,
     "metadata": {},
     "output_type": "execute_result"
    }
   ],
   "source": [
    "# lets check the corps present in this dataset\n",
    "df['label'].unique()"
   ]
  },
  {
   "cell_type": "code",
   "execution_count": 10,
   "metadata": {},
   "outputs": [
    {
     "name": "stdout",
     "output_type": "stream",
     "text": [
      "Average ratio of Nitrogen in soil : 50.551818\n",
      "Average ratio of phasphorous in soil : 53.362727\n",
      "Average ratio of potasium in soil : 48.149091\n",
      "Average ratio of temperature in soil : 25.616244\n",
      "Average ratio of humidity in soil : 71.481779\n",
      "Average ratio of ph in soil : 6.469480\n",
      "Average ratio of rainfall in soil : 103.463655\n"
     ]
    }
   ],
   "source": [
    "#  lets check summry of all dataset\n",
    "print(\"Average ratio of Nitrogen in soil : {0:2f}\".format(df['N'].mean()))\n",
    "print(\"Average ratio of phasphorous in soil : {0:2f}\".format(df['P'].mean()))\n",
    "print(\"Average ratio of potasium in soil : {0:2f}\".format(df['K'].mean()))\n",
    "print(\"Average ratio of temperature in soil : {0:2f}\".format(df['temperature'].mean()))\n",
    "print(\"Average ratio of humidity in soil : {0:2f}\".format(df['humidity'].mean()))\n",
    "print(\"Average ratio of ph in soil : {0:2f}\".format(df['ph'].mean()))\n",
    "print(\"Average ratio of rainfall in soil : {0:2f}\".format(df['rainfall'].mean()))"
   ]
  },
  {
   "cell_type": "code",
   "execution_count": null,
   "metadata": {},
   "outputs": [],
   "source": []
  },
  {
   "cell_type": "code",
   "execution_count": 11,
   "metadata": {
    "scrolled": false
   },
   "outputs": [
    {
     "data": {
      "application/vnd.jupyter.widget-view+json": {
       "model_id": "e134d3674039420da12f017403ab678f",
       "version_major": 2,
       "version_minor": 0
      },
      "text/plain": [
       "interactive(children=(Dropdown(description='crops', options=('rice', 'maize', 'jute', 'cotton', 'coconut', 'pa…"
      ]
     },
     "metadata": {},
     "output_type": "display_data"
    }
   ],
   "source": [
    "#  leat check the summary statistics for each of the crops \n",
    "@interact \n",
    "def summary(crops = list(df['label'].value_counts().index)):\n",
    "    x = df[df['label']==crops]\n",
    "    print('-----------------------------------------------')\n",
    "    print('Statistic for Nitrogen')\n",
    "    print('Minimum Nitrogen required :',x['N'].min())\n",
    "    print('Average Nitrogen required :',x['N'].mean())\n",
    "    print('Maximum Nitrogen required :',x['N'].max())\n",
    "    print(\"------------------------------------------------\")\n",
    "    print('Statistic for Nitrogen')\n",
    "    print('Minimum phosphorous required :',x['P'].min())\n",
    "    print('Average phosphorous required :',x['P'].mean())\n",
    "    print('Maximum phosphorous required :',x['P'].max())\n",
    "    print(\"------------------------------------------------\")\n",
    "    print('Statistic for Nitrogen')\n",
    "    print('Minimum potassium required :',x['K'].min())\n",
    "    print('Average potassium required :',x['K'].mean())\n",
    "    print('Maximum potassium required :',x['K'].max())\n",
    "    print(\"------------------------------------------------\")\n",
    "    print(\"Statistic for temperature\")\n",
    "    print(\"Minimum Temperature required : {0:2f}\".format(x['temperature'].min()))\n",
    "    print(\"Average Temperature required : {0:2f}\".format(x['temperature'].mean()))\n",
    "    print(\"Maximum Temperature required : {0:2f}\".format(x['temperature'].max()))\n",
    "    print(\"------------------------------------------------\")\n",
    "    print(\"Statistic for temperature\")\n",
    "    print(\"Minimum humidity required : {0:2f}\".format(x['humidity'].min()))\n",
    "    print(\"Average humidity required : {0:2f}\".format(x['humidity'].mean()))\n",
    "    print(\"Maximum humidity required : {0:2f}\".format(x['humidity'].max()))\n",
    "    print(\"------------------------------------------------\")\n",
    "    print(\"Statistic for temperature\")\n",
    "    print(\"Minimum rainfall required : {0:2f}\".format(x['rainfall'].min()))\n",
    "    print(\"Average rainfall required : {0:2f}\".format(x['rainfall'].mean()))\n",
    "    print(\"Maximum rainfall required : {0:2f}\".format(x['rainfall'].max()))\n",
    "    print(\"Statistic for ph\")\n",
    "    print(\"Minimum ph required : {0:2f}\".format(x['ph'].min()))\n",
    "    print(\"Average ph required : {0:2f}\".format(x['ph'].mean()))\n",
    "    print(\"Maximum ph required : {0:2f}\".format(x['ph'].max()))\n",
    "    "
   ]
  },
  {
   "cell_type": "code",
   "execution_count": null,
   "metadata": {},
   "outputs": [],
   "source": []
  },
  {
   "cell_type": "code",
   "execution_count": 12,
   "metadata": {
    "scrolled": false
   },
   "outputs": [
    {
     "data": {
      "application/vnd.jupyter.widget-view+json": {
       "model_id": "429ecec3ee684d899a16db4a97eb9088",
       "version_major": 2,
       "version_minor": 0
      },
      "text/plain": [
       "interactive(children=(Dropdown(description='conditions', options=('N', 'P', 'K', 'temperature', 'ph', 'humidit…"
      ]
     },
     "metadata": {},
     "output_type": "display_data"
    }
   ],
   "source": [
    "@interact\n",
    "def compare(conditions = ['N','P','K','temperature','ph','humidity','rainfall']):\n",
    "    print('Average value for',conditions,'is {0:.1f}'.format(df[conditions].mean()))\n",
    "    print(\"------------------------------------------------------------------------\")\n",
    "    print('Rice : {0:2f}'.format(df[(df['label']=='rice')][conditions].mean()))\n",
    "    print('lentil : {0:2f}'.format(df[(df['label']=='lentil')][conditions].mean()))\n",
    "    print('cotton : {0:2f}'.format(df[(df['label']=='cotton')][conditions].mean()))\n",
    "    print('mungbean : {0:2f}'.format(df[(df['label']=='mungbean')][conditions].mean()))\n",
    "    print('jute : {0:2f}'.format(df[(df['label']=='jute')][conditions].mean()))\n",
    "    print('muskmelon : {0:2f}'.format(df[(df['label']=='muskmelon')][conditions].mean()))\n",
    "    print('blackgram : {0:2f}'.format(df[(df['label']=='blackgram')][conditions].mean()))\n",
    "    print('papaya : {0:2f}'.format(df[(df['label']=='papaya')][conditions].mean()))\n",
    "    print('orange : {0:2f}'.format(df[(df['label']=='orange')][conditions].mean()))\n",
    "    print('apple : {0:2f}'.format(df[(df['label']=='apple')][conditions].mean()))\n",
    "    print('pigeonpeas : {0:2f}'.format(df[(df['label']=='pigeonpeas')][conditions].mean()))\n",
    "    print('coffee : {0:2f}'.format(df[(df['label']=='coffee')][conditions].mean())) \n",
    "    print('maize : {0:2f}'.format(df[(df['label']=='maize')][conditions].mean()))\n",
    "    print('chickpea : {0:2f}'.format(df[(df['label']=='chickpea')][conditions].mean()))\n",
    "    print('pomegranate : {0:2f}'.format(df[(df['label']=='pomegranate')][conditions].mean()))\n",
    "    print('kidneybeans : {0:2f}'.format(df[(df['label']=='kidneybeans')][conditions].mean()))\n",
    "    print('mango : {0:2f}'.format(df[(df['label']=='mango')][conditions].mean()))\n",
    "    print('banana : {0:2f}'.format(df[(df['label']=='banana')][conditions].mean()))\n",
    "    print('grapes : {0:2f}'.format(df[(df['label']=='grapes')][conditions].mean()))\n",
    "    print('mothbeans : {0:2f}'.format(df[(df['label']=='mothbeans')][conditions].mean()))\n",
    "    print('watermelon : {0:2f}'.format(df[(df['label']=='watermelon')][conditions].mean()))\n",
    "    print('coconut : {0:2f}'.format(df[df['label']=='coconut'][conditions].mean()))\n",
    "    "
   ]
  },
  {
   "cell_type": "code",
   "execution_count": 13,
   "metadata": {},
   "outputs": [
    {
     "data": {
      "application/vnd.jupyter.widget-view+json": {
       "model_id": "0013f3dd294c4938b929c056fa7f149d",
       "version_major": 2,
       "version_minor": 0
      },
      "text/plain": [
       "interactive(children=(Dropdown(description='conditions', options=('N', 'P', 'K', 'temperature', 'ph', 'humidit…"
      ]
     },
     "metadata": {},
     "output_type": "display_data"
    }
   ],
   "source": [
    "@interact\n",
    "def compare(conditions = ['N','P','K','temperature','ph','humidity','rainfall']):\n",
    "    print(\"crops which required grater than average\",conditions,'\\n')\n",
    "    print(df[df[conditions]> df[conditions].mean()]['label'].unique())\n",
    "    print(\"-----------------------------------------------------------\")\n",
    "    print(\"crops which required less than average\",conditions,'\\n')\n",
    "    print(df[df[conditions] < df[conditions].mean()]['label'].unique())"
   ]
  },
  {
   "cell_type": "code",
   "execution_count": null,
   "metadata": {},
   "outputs": [],
   "source": [
    "\n"
   ]
  },
  {
   "cell_type": "code",
   "execution_count": 14,
   "metadata": {},
   "outputs": [
    {
     "data": {
      "text/plain": [
       "N               50.551818\n",
       "P               53.362727\n",
       "K               48.149091\n",
       "temperature     25.616244\n",
       "ph               6.469480\n",
       "humidity        71.481779\n",
       "rainfall       103.463655\n",
       "dtype: float64"
      ]
     },
     "execution_count": 14,
     "metadata": {},
     "output_type": "execute_result"
    }
   ],
   "source": [
    "# -----------------------------important \n",
    "conditions = ['N','P','K','temperature','ph','humidity','rainfall']\n",
    "df[conditions].mean()"
   ]
  },
  {
   "cell_type": "code",
   "execution_count": null,
   "metadata": {},
   "outputs": [],
   "source": []
  },
  {
   "cell_type": "code",
   "execution_count": 15,
   "metadata": {},
   "outputs": [
    {
     "data": {
      "text/plain": [
       "<AxesSubplot:xlabel='N', ylabel='label'>"
      ]
     },
     "execution_count": 15,
     "metadata": {},
     "output_type": "execute_result"
    },
    {
     "data": {
      "image/png": "[encoded data removed]",
      "text/plain": [
       "<Figure size 432x288 with 1 Axes>"
      ]
     },
     "metadata": {
      "needs_background": "light"
     },
     "output_type": "display_data"
    }
   ],
   "source": [
    "sns.scatterplot(data=df, x=\"N\", y=\"label\",color='red')\n",
    "sns.scatterplot(data=df, x=\"P\", y=\"label\",color='yellow')\n",
    "sns.scatterplot(data=df, x=\"K\", y=\"label\",color='blue')\n",
    "sns.scatterplot(data=df, x=\"temperature\", y=\"label\",color='brown')\n",
    "sns.scatterplot(data=df, x=\"humidity\", y=\"label\",color='pink')\n",
    "sns.scatterplot(data=df, x=\"ph\", y=\"label\",color='black')\n",
    "sns.scatterplot(data=df, x=\"rainfall\", y=\"label\",color='green')\n"
   ]
  },
  {
   "cell_type": "code",
   "execution_count": 16,
   "metadata": {},
   "outputs": [
    {
     "data": {
      "text/html": [
       "<div>\n",
       "<style scoped>\n",
       "    .dataframe tbody tr th:only-of-type {\n",
       "        vertical-align: middle;\n",
       "    }\n",
       "\n",
       "    .dataframe tbody tr th {\n",
       "        vertical-align: top;\n",
       "    }\n",
       "\n",
       "    .dataframe thead th {\n",
       "        text-align: right;\n",
       "    }\n",
       "</style>\n",
       "<table border=\"1\" class=\"dataframe\">\n",
       "  <thead>\n",
       "    <tr style=\"text-align: right;\">\n",
       "      <th>col_0</th>\n",
       "      <th>count</th>\n",
       "    </tr>\n",
       "    <tr>\n",
       "      <th>label</th>\n",
       "      <th></th>\n",
       "    </tr>\n",
       "  </thead>\n",
       "  <tbody>\n",
       "    <tr>\n",
       "      <th>blackgram</th>\n",
       "      <td>16.107383</td>\n",
       "    </tr>\n",
       "    <tr>\n",
       "      <th>grapes</th>\n",
       "      <td>9.060403</td>\n",
       "    </tr>\n",
       "    <tr>\n",
       "      <th>mango</th>\n",
       "      <td>21.812081</td>\n",
       "    </tr>\n",
       "    <tr>\n",
       "      <th>mothbeans</th>\n",
       "      <td>9.060403</td>\n",
       "    </tr>\n",
       "    <tr>\n",
       "      <th>orange</th>\n",
       "      <td>7.718121</td>\n",
       "    </tr>\n",
       "    <tr>\n",
       "      <th>papaya</th>\n",
       "      <td>22.818792</td>\n",
       "    </tr>\n",
       "    <tr>\n",
       "      <th>pigeonpeas</th>\n",
       "      <td>13.422819</td>\n",
       "    </tr>\n",
       "  </tbody>\n",
       "</table>\n",
       "</div>"
      ],
      "text/plain": [
       "col_0           count\n",
       "label                \n",
       "blackgram   16.107383\n",
       "grapes       9.060403\n",
       "mango       21.812081\n",
       "mothbeans    9.060403\n",
       "orange       7.718121\n",
       "papaya      22.818792\n",
       "pigeonpeas  13.422819"
      ]
     },
     "execution_count": 16,
     "metadata": {},
     "output_type": "execute_result"
    }
   ],
   "source": [
    "pd.DataFrame(pd.crosstab(df.label[df.temperature > 30],'count',normalize=True)*100)\n",
    "\n"
   ]
  },
  {
   "cell_type": "code",
   "execution_count": 17,
   "metadata": {},
   "outputs": [
    {
     "data": {
      "image/png": "[encoded data removed]",
      "text/plain": [
       "<Figure size 576x576 with 1 Axes>"
      ]
     },
     "metadata": {},
     "output_type": "display_data"
    }
   ],
   "source": [
    "#which crops can grow at higher temperature .i.e., temperature > 30\n",
    "x = pd.DataFrame(pd.crosstab(df.label[df.temperature > 30],'count',normalize=True)*100)\n",
    "x.plot.pie(y = 'count',autopct='%1.1f%%',figsize=(8,8),legend=None, startangle=90)\n",
    "plt.title('Probability of crops grow when temperature > 30')\n",
    "plt.show()"
   ]
  },
  {
   "cell_type": "code",
   "execution_count": null,
   "metadata": {},
   "outputs": [],
   "source": []
  },
  {
   "cell_type": "code",
   "execution_count": null,
   "metadata": {},
   "outputs": [],
   "source": []
  },
  {
   "cell_type": "code",
   "execution_count": null,
   "metadata": {},
   "outputs": [],
   "source": []
  },
  {
   "cell_type": "code",
   "execution_count": null,
   "metadata": {},
   "outputs": [],
   "source": []
  },
  {
   "cell_type": "code",
   "execution_count": 18,
   "metadata": {},
   "outputs": [
    {
     "data": {
      "image/png": "[encoded data removed]",
      "text/plain": [
       "<Figure size 576x576 with 1 Axes>"
      ]
     },
     "metadata": {},
     "output_type": "display_data"
    }
   ],
   "source": [
    "#which crops can grow at higher rainfall .i.e., rainfall > 150mm\n",
    "x1 = pd.DataFrame(pd.crosstab(df.label[df.rainfall > 150],'count',normalize=True)*100)\n",
    "x1.plot.pie(y = 'count',autopct='%1.1f%%',figsize=(8,8),legend=None, startangle=90)\n",
    "plt.title('Probability of crops grow when rainfall > 150mm')\n",
    "plt.show()"
   ]
  },
  {
   "cell_type": "code",
   "execution_count": 19,
   "metadata": {},
   "outputs": [
    {
     "data": {
      "image/png": "[encoded data removed]",
      "text/plain": [
       "<Figure size 576x576 with 1 Axes>"
      ]
     },
     "metadata": {},
     "output_type": "display_data"
    }
   ],
   "source": [
    "#which crops can grow at higher ph value .i.e., (alkaline nature) ph > 7.5\n",
    "x = pd.DataFrame(pd.crosstab(df.label[df.ph > 7.5],'count',normalize=True)*100)\n",
    "x.plot.pie(y = 'count',autopct='%1.1f%%',figsize=(8,8),legend=None, startangle=90)\n",
    "plt.title('Probability of crops grow when ph > 7.5 i.e.,alkaline nature')\n",
    "plt.show()"
   ]
  },
  {
   "cell_type": "code",
   "execution_count": 20,
   "metadata": {},
   "outputs": [
    {
     "data": {
      "image/png": "[encoded data removed]",
      "text/plain": [
       "<Figure size 432x288 with 1 Axes>"
      ]
     },
     "metadata": {
      "needs_background": "light"
     },
     "output_type": "display_data"
    }
   ],
   "source": [
    "sns.stripplot(y ='label', x = 'temperature', data =df)\n",
    "plt.show()"
   ]
  },
  {
   "cell_type": "code",
   "execution_count": 21,
   "metadata": {},
   "outputs": [
    {
     "name": "stdout",
     "output_type": "stream",
     "text": [
      "some interesting patterns\n",
      "-------------------------\n",
      "crops which requires very High Ratio Nitrogen Content in soil: ['cotton']\n",
      "crops which requires very High Ratio phasphorous Content in soil: ['grapes' 'apple']\n",
      "crops which requires very High Ratio potassium Content in soil: ['grapes' 'apple']\n",
      "crops which requires very High Rainfall : ['rice' 'papaya' 'coconut']\n",
      "crops which requires very low temperature : ['grapes']\n",
      "crops which requires very HIgh temperature : ['grapes' 'papaya']\n",
      "crops which requires very low humidity : ['chickpea' 'kidneybeans']\n",
      "crops which requires very low ph : ['mothbeans']\n",
      "crops which requires very low ph : ['mothbeans']\n"
     ]
    }
   ],
   "source": [
    "print(\"some interesting patterns\")\n",
    "print(\"-------------------------\")\n",
    "print(\"crops which requires very High Ratio Nitrogen Content in soil:\",df[df['N']>120]['label'].unique())\n",
    "print(\"crops which requires very High Ratio phasphorous Content in soil:\",df[df['P']>100]['label'].unique())\n",
    "print(\"crops which requires very High Ratio potassium Content in soil:\",df[df['K']>200]['label'].unique())\n",
    "print(\"crops which requires very High Rainfall :\",df[df['rainfall']>200]['label'].unique())\n",
    "print(\"crops which requires very low temperature :\",df[df['temperature']<10]['label'].unique())\n",
    "print(\"crops which requires very HIgh temperature :\",df[df['temperature']>40]['label'].unique())\n",
    "print(\"crops which requires very low humidity :\",df[df['humidity']<20]['label'].unique())\n",
    "print(\"crops which requires very low ph :\",df[df['ph']<4]['label'].unique())\n",
    "print(\"crops which requires very low ph :\",df[df['ph']>9]['label'].unique())\n"
   ]
  },
  {
   "cell_type": "code",
   "execution_count": 22,
   "metadata": {},
   "outputs": [
    {
     "name": "stdout",
     "output_type": "stream",
     "text": [
      "summer crops\n",
      "['pigeonpeas' 'mothbeans' 'blackgram' 'mango' 'grapes' 'orange' 'papaya']\n",
      "---------------------------\n",
      "Winter crops\n",
      "['maize' 'pigeonpeas' 'lentil' 'pomegranate' 'grapes' 'orange']\n",
      "---------------------------\n",
      "['rice' 'papaya' 'coconut']\n"
     ]
    }
   ],
   "source": [
    "print(\"summer crops\")\n",
    "print(df[(df['temperature'] > 30) & (df['humidity'] > 50)]['label'].unique())\n",
    "print('---------------------------')\n",
    "print(\"Winter crops\")\n",
    "print(df[(df['temperature'] < 20) & (df['humidity'] > 30)]['label'].unique())\n",
    "print('---------------------------')\n",
    "print(df[(df['rainfall'] > 200) & (df['humidity'] > 30)]['label'].unique())\n"
   ]
  },
  {
   "cell_type": "code",
   "execution_count": null,
   "metadata": {},
   "outputs": [],
   "source": []
  },
  {
   "cell_type": "code",
   "execution_count": 23,
   "metadata": {},
   "outputs": [
    {
     "name": "stdout",
     "output_type": "stream",
     "text": [
      "shape of x:  (2200, 7)\n",
      "shape of y:  (2200,)\n"
     ]
    }
   ],
   "source": [
    "#  lets split the Dataset for predictive Modeling \n",
    "\n",
    "y = df['label']\n",
    "x = df.drop(['label'],axis = 1)\n",
    "\n",
    "print('shape of x: ',x.shape)\n",
    "print('shape of y: ',y.shape)\n"
   ]
  },
  {
   "cell_type": "code",
   "execution_count": 24,
   "metadata": {},
   "outputs": [
    {
     "name": "stdout",
     "output_type": "stream",
     "text": [
      "The shape of x_train (1760, 7)\n",
      "The shape of x_test (440, 7)\n",
      "The shape of y_train (1760,)\n",
      "The shape of y_test (440,)\n"
     ]
    }
   ],
   "source": [
    "# lets create training and testing sets for validation of Result\n",
    "from sklearn.model_selection import train_test_split\n",
    "\n",
    "x_train,x_test,y_train,y_test = train_test_split(x,y,test_size = 0.2,random_state=0)\n",
    "\n",
    "print('The shape of x_train', x_train.shape)\n",
    "print('The shape of x_test', x_test.shape)\n",
    "print('The shape of y_train', y_train.shape)\n",
    "print('The shape of y_test', y_test.shape)"
   ]
  },
  {
   "cell_type": "code",
   "execution_count": 25,
   "metadata": {},
   "outputs": [],
   "source": [
    "acc = []\n",
    "model = []"
   ]
  },
  {
   "cell_type": "markdown",
   "metadata": {},
   "source": [
    "# Decision Tree"
   ]
  },
  {
   "cell_type": "code",
   "execution_count": 26,
   "metadata": {},
   "outputs": [],
   "source": [
    "import seaborn as sns"
   ]
  },
  {
   "cell_type": "code",
   "execution_count": 27,
   "metadata": {},
   "outputs": [],
   "source": [
    "from sklearn import tree\n",
    "model_Dt = tree.DecisionTreeClassifier()\n",
    "model_Dt.fit(x_train,y_train)\n",
    "y_pred_Dt = model_Dt.predict(x_test)"
   ]
  },
  {
   "cell_type": "code",
   "execution_count": 28,
   "metadata": {},
   "outputs": [
    {
     "data": {
      "text/plain": [
       "0.990909090909091"
      ]
     },
     "execution_count": 28,
     "metadata": {},
     "output_type": "execute_result"
    }
   ],
   "source": [
    "# calculate accuracy\n",
    "from sklearn import metrics\n",
    "acc.append(metrics.accuracy_score(y_test, y_pred_Dt))\n",
    "model.append('Decision Tree')\n",
    "Decision_Tree_Accuracy = metrics.accuracy_score(y_test, y_pred_Dt)\n",
    "Decision_Tree_Accuracy"
   ]
  },
  {
   "cell_type": "code",
   "execution_count": 29,
   "metadata": {},
   "outputs": [
    {
     "data": {
      "text/plain": [
       "436"
      ]
     },
     "execution_count": 29,
     "metadata": {},
     "output_type": "execute_result"
    }
   ],
   "source": [
    "sum(y_pred_Dt == y_test)"
   ]
  },
  {
   "cell_type": "code",
   "execution_count": null,
   "metadata": {},
   "outputs": [],
   "source": []
  },
  {
   "cell_type": "code",
   "execution_count": 30,
   "metadata": {},
   "outputs": [
    {
     "data": {
      "image/png": "[encoded data removed]",
      "text/plain": [
       "<Figure size 720x720 with 2 Axes>"
      ]
     },
     "metadata": {
      "needs_background": "light"
     },
     "output_type": "display_data"
    }
   ],
   "source": [
    "from sklearn.metrics import confusion_matrix\n",
    "\n",
    "# lets print the confusion matrix first \n",
    "plt.rcParams['figure.figsize']=(10,10)\n",
    "cm = confusion_matrix(y_test,y_pred_Dt)\n",
    "sns.heatmap(cm,annot = True, cmap = 'Wistia' )\n",
    "plt.title('confusion Matrix for Logistic Regression',fontsize = 15)\n",
    "plt.show()"
   ]
  },
  {
   "cell_type": "code",
   "execution_count": 31,
   "metadata": {},
   "outputs": [],
   "source": [
    "# from mlxtend.plotting import plot_decision_regions"
   ]
  },
  {
   "cell_type": "markdown",
   "metadata": {},
   "source": [
    "# SVM"
   ]
  },
  {
   "cell_type": "markdown",
   "metadata": {},
   "source": [
    "The C parameter tells the SVM optimization how much you want to avoid misclassifying each training example. For large values of C, the optimization will choose a smaller-margin hyperplane if that hyperplane does a better job of getting all the training points classified correctly."
   ]
  },
  {
   "cell_type": "code",
   "execution_count": 32,
   "metadata": {},
   "outputs": [],
   "source": [
    "from sklearn.svm import SVC\n",
    "model_svc = SVC(C=0.3,kernel='linear')\n",
    "model_svc.fit(x_train,y_train)\n",
    "y_pred_SVC = model_svc.predict(x_test)"
   ]
  },
  {
   "cell_type": "code",
   "execution_count": 33,
   "metadata": {},
   "outputs": [
    {
     "data": {
      "text/plain": [
       "0.9863636363636363"
      ]
     },
     "execution_count": 33,
     "metadata": {},
     "output_type": "execute_result"
    }
   ],
   "source": [
    "# calculate accuracy\n",
    "from sklearn import metrics\n",
    "acc.append(metrics.accuracy_score(y_test, y_pred_SVC))\n",
    "model.append('SVM')\n",
    "SVM_Accuracy = metrics.accuracy_score(y_test, y_pred_SVC)\n",
    "SVM_Accuracy"
   ]
  },
  {
   "cell_type": "code",
   "execution_count": 34,
   "metadata": {},
   "outputs": [
    {
     "data": {
      "text/plain": [
       "22"
      ]
     },
     "execution_count": 34,
     "metadata": {},
     "output_type": "execute_result"
    }
   ],
   "source": [
    "len(y.value_counts())"
   ]
  },
  {
   "cell_type": "code",
   "execution_count": 35,
   "metadata": {},
   "outputs": [
    {
     "data": {
      "image/png": "[encoded data removed]",
      "text/plain": [
       "<Figure size 720x720 with 2 Axes>"
      ]
     },
     "metadata": {
      "needs_background": "light"
     },
     "output_type": "display_data"
    }
   ],
   "source": [
    "from sklearn.metrics import confusion_matrix\n",
    "\n",
    "# lets print the confusion matrix first \n",
    "plt.rcParams['figure.figsize']=(10,10)\n",
    "cm = confusion_matrix(y_test,y_pred_SVC)\n",
    "sns.heatmap(cm,annot = True, cmap = 'Wistia' )\n",
    "plt.title('confusion Matrix for Logistic Regression',fontsize = 15)\n",
    "plt.show()"
   ]
  },
  {
   "cell_type": "code",
   "execution_count": null,
   "metadata": {},
   "outputs": [],
   "source": []
  },
  {
   "cell_type": "markdown",
   "metadata": {},
   "source": [
    "# LogisticRegression"
   ]
  },
  {
   "cell_type": "code",
   "execution_count": 36,
   "metadata": {},
   "outputs": [
    {
     "name": "stderr",
     "output_type": "stream",
     "text": [
      "C:\\Users\\Pcs\\anaconda3\\lib\\site-packages\\sklearn\\linear_model\\_logistic.py:763: ConvergenceWarning: lbfgs failed to converge (status=1):\n",
      "STOP: TOTAL NO. of ITERATIONS REACHED LIMIT.\n",
      "\n",
      "Increase the number of iterations (max_iter) or scale the data as shown in:\n",
      "    https://scikit-learn.org/stable/modules/preprocessing.html\n",
      "Please also refer to the documentation for alternative solver options:\n",
      "    https://scikit-learn.org/stable/modules/linear_model.html#logistic-regression\n",
      "  n_iter_i = _check_optimize_result(\n"
     ]
    }
   ],
   "source": [
    "from sklearn.linear_model import LogisticRegression\n",
    "\n",
    "model_LG = LogisticRegression(C=0.3)\n",
    "model_LG.fit(x_train,y_train)\n",
    "y_pred_LG = model_LG.predict(x_test)"
   ]
  },
  {
   "cell_type": "code",
   "execution_count": 37,
   "metadata": {},
   "outputs": [
    {
     "data": {
      "text/plain": [
       "0.9659090909090909"
      ]
     },
     "execution_count": 37,
     "metadata": {},
     "output_type": "execute_result"
    }
   ],
   "source": [
    "# calculate accuracy\n",
    "from sklearn import metrics\n",
    "acc.append(metrics.accuracy_score(y_test, y_pred_LG))\n",
    "model.append('LogisticRegression')\n",
    "Logistic_Regression_Accuracy = metrics.accuracy_score(y_test, y_pred_LG)\n",
    "Logistic_Regression_Accuracy"
   ]
  },
  {
   "cell_type": "code",
   "execution_count": null,
   "metadata": {},
   "outputs": [],
   "source": []
  },
  {
   "cell_type": "code",
   "execution_count": 38,
   "metadata": {},
   "outputs": [
    {
     "data": {
      "image/png": "[encoded data removed]",
      "text/plain": [
       "<Figure size 720x720 with 2 Axes>"
      ]
     },
     "metadata": {
      "needs_background": "light"
     },
     "output_type": "display_data"
    }
   ],
   "source": [
    "from sklearn.metrics import confusion_matrix\n",
    "\n",
    "# lets print the confusion matrix first \n",
    "plt.rcParams['figure.figsize']=(10,10)\n",
    "cm = confusion_matrix(y_test,y_pred_LG)\n",
    "sns.heatmap(cm,annot = True, cmap = 'Wistia' )\n",
    "plt.title('confusion Matrix ',fontsize = 15)\n",
    "plt.show()"
   ]
  },
  {
   "cell_type": "code",
   "execution_count": null,
   "metadata": {},
   "outputs": [],
   "source": []
  },
  {
   "cell_type": "code",
   "execution_count": 39,
   "metadata": {},
   "outputs": [
    {
     "name": "stdout",
     "output_type": "stream",
     "text": [
      "the suggested crop for Given climate condition is : ['coffee']\n"
     ]
    }
   ],
   "source": [
    "prediction = model_LG.predict((np.array([[108,\n",
    "                                       35,\n",
    "                                       30,\n",
    "                                       30,\n",
    "                                       70,\n",
    "                                       7,\n",
    "                                       180]])))\n",
    "print('the suggested crop for Given climate condition is :',prediction)"
   ]
  },
  {
   "cell_type": "code",
   "execution_count": 40,
   "metadata": {},
   "outputs": [
    {
     "name": "stdout",
     "output_type": "stream",
     "text": [
      "the suggested crop by SVC for Given climate condition is : ['apple']\n"
     ]
    }
   ],
   "source": [
    "predictionn = model_svc.predict((np.array([[27,120,200,21.452787,90.745319,6.110219,116.703658]])))\n",
    "print('the suggested crop by SVC for Given climate condition is :',predictionn)"
   ]
  },
  {
   "cell_type": "code",
   "execution_count": null,
   "metadata": {},
   "outputs": [],
   "source": []
  },
  {
   "cell_type": "code",
   "execution_count": 41,
   "metadata": {},
   "outputs": [],
   "source": [
    "import pickle"
   ]
  },
  {
   "cell_type": "code",
   "execution_count": null,
   "metadata": {},
   "outputs": [],
   "source": []
  },
  {
   "cell_type": "code",
   "execution_count": 42,
   "metadata": {},
   "outputs": [],
   "source": [
    "# pickle.dump(df.to_dict(),open('data_set.pkl','wb'))"
   ]
  },
  {
   "cell_type": "code",
   "execution_count": 43,
   "metadata": {},
   "outputs": [],
   "source": [
    "# pickle_ut = open(\"model_Dt.pkl\",\"wb\")\n",
    "# pickle.dump(model_Dt,pickle_ut)\n",
    "# pickle_ut.close()"
   ]
  },
  {
   "cell_type": "markdown",
   "metadata": {},
   "source": [
    "# RandomForest"
   ]
  },
  {
   "cell_type": "code",
   "execution_count": 44,
   "metadata": {},
   "outputs": [],
   "source": [
    "from sklearn.ensemble import RandomForestClassifier"
   ]
  },
  {
   "cell_type": "code",
   "execution_count": 45,
   "metadata": {},
   "outputs": [],
   "source": [
    "model_rf = RandomForestClassifier( max_depth=6, n_estimators=15) # yaha result khud khrab kia.\n",
    "model_rf.fit(x_train,y_train)\n",
    "y_pred_rf = model_rf.predict(x_test)"
   ]
  },
  {
   "cell_type": "code",
   "execution_count": 46,
   "metadata": {},
   "outputs": [
    {
     "data": {
      "text/plain": [
       "0.9795454545454545"
      ]
     },
     "execution_count": 46,
     "metadata": {},
     "output_type": "execute_result"
    }
   ],
   "source": [
    "acc.append(metrics.accuracy_score(y_test, y_pred_rf))\n",
    "model.append('RandomForest')\n",
    "Random_Forest_Accuracy = metrics.accuracy_score(y_test,y_pred_rf)\n",
    "Random_Forest_Accuracy"
   ]
  },
  {
   "cell_type": "code",
   "execution_count": 47,
   "metadata": {},
   "outputs": [],
   "source": [
    "pickle_out = open(\"model_rf.pkl\",\"wb\")\n",
    "pickle.dump(model_rf,pickle_out)\n",
    "pickle_out.close()"
   ]
  },
  {
   "cell_type": "code",
   "execution_count": null,
   "metadata": {},
   "outputs": [],
   "source": []
  },
  {
   "cell_type": "code",
   "execution_count": null,
   "metadata": {},
   "outputs": [],
   "source": []
  },
  {
   "cell_type": "code",
   "execution_count": 48,
   "metadata": {},
   "outputs": [],
   "source": [
    "import matplotlib.pyplot as plt"
   ]
  },
  {
   "cell_type": "markdown",
   "metadata": {},
   "source": [
    "## KNN"
   ]
  },
  {
   "cell_type": "code",
   "execution_count": 49,
   "metadata": {},
   "outputs": [
    {
     "data": {
      "text/plain": [
       "0.9818181818181818"
      ]
     },
     "execution_count": 49,
     "metadata": {},
     "output_type": "execute_result"
    }
   ],
   "source": [
    "from sklearn.neighbors import KNeighborsClassifier\n",
    "knn = KNeighborsClassifier(leaf_size= 1,p= 15,n_neighbors= 5)\n",
    "knn.fit(x_train, y_train)\n",
    "KNN_Accuracy = knn.score(x_test, y_test)\n",
    "KNN_Accuracy"
   ]
  },
  {
   "cell_type": "code",
   "execution_count": 50,
   "metadata": {},
   "outputs": [],
   "source": [
    "\n",
    "y_pred_knn = knn.predict(x_test)\n",
    "acc.append(metrics.accuracy_score(y_test, y_pred_knn))\n",
    "model.append('KNN')"
   ]
  },
  {
   "cell_type": "code",
   "execution_count": 51,
   "metadata": {},
   "outputs": [
    {
     "data": {
      "text/plain": [
       "432"
      ]
     },
     "execution_count": 51,
     "metadata": {},
     "output_type": "execute_result"
    }
   ],
   "source": [
    "sum(y_pred_knn == y_test)"
   ]
  },
  {
   "cell_type": "code",
   "execution_count": 52,
   "metadata": {},
   "outputs": [
    {
     "data": {
      "text/html": [
       "<div>\n",
       "<style scoped>\n",
       "    .dataframe tbody tr th:only-of-type {\n",
       "        vertical-align: middle;\n",
       "    }\n",
       "\n",
       "    .dataframe tbody tr th {\n",
       "        vertical-align: top;\n",
       "    }\n",
       "\n",
       "    .dataframe thead th {\n",
       "        text-align: right;\n",
       "    }\n",
       "</style>\n",
       "<table border=\"1\" class=\"dataframe\">\n",
       "  <thead>\n",
       "    <tr style=\"text-align: right;\">\n",
       "      <th></th>\n",
       "      <th>N</th>\n",
       "      <th>P</th>\n",
       "      <th>K</th>\n",
       "      <th>temperature</th>\n",
       "      <th>humidity</th>\n",
       "      <th>ph</th>\n",
       "      <th>rainfall</th>\n",
       "    </tr>\n",
       "  </thead>\n",
       "  <tbody>\n",
       "    <tr>\n",
       "      <th>1320</th>\n",
       "      <td>105</td>\n",
       "      <td>14</td>\n",
       "      <td>50</td>\n",
       "      <td>26.214884</td>\n",
       "      <td>87.688398</td>\n",
       "      <td>6.419052</td>\n",
       "      <td>59.655908</td>\n",
       "    </tr>\n",
       "    <tr>\n",
       "      <th>1367</th>\n",
       "      <td>91</td>\n",
       "      <td>12</td>\n",
       "      <td>46</td>\n",
       "      <td>24.644585</td>\n",
       "      <td>85.499382</td>\n",
       "      <td>6.343943</td>\n",
       "      <td>48.312190</td>\n",
       "    </tr>\n",
       "    <tr>\n",
       "      <th>1291</th>\n",
       "      <td>14</td>\n",
       "      <td>121</td>\n",
       "      <td>203</td>\n",
       "      <td>9.724458</td>\n",
       "      <td>83.747656</td>\n",
       "      <td>6.158689</td>\n",
       "      <td>74.464111</td>\n",
       "    </tr>\n",
       "    <tr>\n",
       "      <th>264</th>\n",
       "      <td>52</td>\n",
       "      <td>73</td>\n",
       "      <td>79</td>\n",
       "      <td>17.257695</td>\n",
       "      <td>18.749440</td>\n",
       "      <td>7.840339</td>\n",
       "      <td>94.002872</td>\n",
       "    </tr>\n",
       "    <tr>\n",
       "      <th>728</th>\n",
       "      <td>32</td>\n",
       "      <td>66</td>\n",
       "      <td>17</td>\n",
       "      <td>34.946616</td>\n",
       "      <td>65.267740</td>\n",
       "      <td>7.162358</td>\n",
       "      <td>70.141514</td>\n",
       "    </tr>\n",
       "    <tr>\n",
       "      <th>...</th>\n",
       "      <td>...</td>\n",
       "      <td>...</td>\n",
       "      <td>...</td>\n",
       "      <td>...</td>\n",
       "      <td>...</td>\n",
       "      <td>...</td>\n",
       "      <td>...</td>\n",
       "    </tr>\n",
       "    <tr>\n",
       "      <th>446</th>\n",
       "      <td>32</td>\n",
       "      <td>70</td>\n",
       "      <td>20</td>\n",
       "      <td>20.893427</td>\n",
       "      <td>46.248565</td>\n",
       "      <td>6.208843</td>\n",
       "      <td>195.569787</td>\n",
       "    </tr>\n",
       "    <tr>\n",
       "      <th>1005</th>\n",
       "      <td>93</td>\n",
       "      <td>94</td>\n",
       "      <td>53</td>\n",
       "      <td>25.866324</td>\n",
       "      <td>84.423793</td>\n",
       "      <td>6.079179</td>\n",
       "      <td>114.535750</td>\n",
       "    </tr>\n",
       "    <tr>\n",
       "      <th>1919</th>\n",
       "      <td>117</td>\n",
       "      <td>56</td>\n",
       "      <td>15</td>\n",
       "      <td>25.992374</td>\n",
       "      <td>77.054355</td>\n",
       "      <td>7.368258</td>\n",
       "      <td>89.118821</td>\n",
       "    </tr>\n",
       "    <tr>\n",
       "      <th>708</th>\n",
       "      <td>27</td>\n",
       "      <td>64</td>\n",
       "      <td>21</td>\n",
       "      <td>32.842130</td>\n",
       "      <td>68.684015</td>\n",
       "      <td>7.543804</td>\n",
       "      <td>73.671662</td>\n",
       "    </tr>\n",
       "    <tr>\n",
       "      <th>1546</th>\n",
       "      <td>31</td>\n",
       "      <td>130</td>\n",
       "      <td>198</td>\n",
       "      <td>21.801298</td>\n",
       "      <td>92.734467</td>\n",
       "      <td>5.554824</td>\n",
       "      <td>120.058667</td>\n",
       "    </tr>\n",
       "  </tbody>\n",
       "</table>\n",
       "<p>440 rows × 7 columns</p>\n",
       "</div>"
      ],
      "text/plain": [
       "        N    P    K  temperature   humidity        ph    rainfall\n",
       "1320  105   14   50    26.214884  87.688398  6.419052   59.655908\n",
       "1367   91   12   46    24.644585  85.499382  6.343943   48.312190\n",
       "1291   14  121  203     9.724458  83.747656  6.158689   74.464111\n",
       "264    52   73   79    17.257695  18.749440  7.840339   94.002872\n",
       "728    32   66   17    34.946616  65.267740  7.162358   70.141514\n",
       "...   ...  ...  ...          ...        ...       ...         ...\n",
       "446    32   70   20    20.893427  46.248565  6.208843  195.569787\n",
       "1005   93   94   53    25.866324  84.423793  6.079179  114.535750\n",
       "1919  117   56   15    25.992374  77.054355  7.368258   89.118821\n",
       "708    27   64   21    32.842130  68.684015  7.543804   73.671662\n",
       "1546   31  130  198    21.801298  92.734467  5.554824  120.058667\n",
       "\n",
       "[440 rows x 7 columns]"
      ]
     },
     "execution_count": 52,
     "metadata": {},
     "output_type": "execute_result"
    }
   ],
   "source": [
    "x_test"
   ]
  },
  {
   "cell_type": "code",
   "execution_count": 53,
   "metadata": {},
   "outputs": [
    {
     "data": {
      "text/plain": [
       "array(['watermelon'], dtype=object)"
      ]
     },
     "execution_count": 53,
     "metadata": {},
     "output_type": "execute_result"
    }
   ],
   "source": [
    "knn.predict([[105,14,50,26.214884,87.688398,6.419052,59.655908]])"
   ]
  },
  {
   "cell_type": "code",
   "execution_count": 54,
   "metadata": {},
   "outputs": [
    {
     "data": {
      "text/plain": [
       "array([[0., 0., 0., 0., 0., 0., 0., 0., 0., 0., 0., 0., 0., 0., 0., 0.,\n",
       "        0., 0., 0., 0., 0., 1.]])"
      ]
     },
     "execution_count": 54,
     "metadata": {},
     "output_type": "execute_result"
    }
   ],
   "source": [
    "knn.predict_proba([[105,14,50,26.214884,87.688398,6.419052,59.655908]])"
   ]
  },
  {
   "cell_type": "code",
   "execution_count": null,
   "metadata": {},
   "outputs": [],
   "source": []
  },
  {
   "cell_type": "code",
   "execution_count": 55,
   "metadata": {},
   "outputs": [
    {
     "data": {
      "text/plain": [
       "array(['watermelon'], dtype=object)"
      ]
     },
     "execution_count": 55,
     "metadata": {},
     "output_type": "execute_result"
    }
   ],
   "source": [
    "model_rf.predict([[105,14,50,26.214884,87.688398,6.419052,59.655908]])"
   ]
  },
  {
   "cell_type": "code",
   "execution_count": null,
   "metadata": {},
   "outputs": [],
   "source": []
  },
  {
   "cell_type": "markdown",
   "metadata": {},
   "source": [
    "# voting Algorithm / Ensemble Method"
   ]
  },
  {
   "cell_type": "code",
   "execution_count": 56,
   "metadata": {},
   "outputs": [],
   "source": [
    "# Ensemble of Models \n",
    "estimator = [] \n",
    "estimator.append(('LR',LogisticRegression(C=0.3))) \n",
    "estimator.append(('SVC', SVC(C=0.3,kernel='linear'))) \n",
    "estimator.append(('DTC',DecisionTreeClassifier(random_state=10, max_depth=100))) \n",
    "estimator.append(('RF', RandomForestClassifier( max_depth=10, n_estimators=16)))\n",
    "estimator.append(('KNN', KNeighborsClassifier(leaf_size= 1,p= 15,n_neighbors= 5))) "
   ]
  },
  {
   "cell_type": "code",
   "execution_count": 57,
   "metadata": {},
   "outputs": [
    {
     "name": "stderr",
     "output_type": "stream",
     "text": [
      "C:\\Users\\Pcs\\anaconda3\\lib\\site-packages\\sklearn\\linear_model\\_logistic.py:763: ConvergenceWarning: lbfgs failed to converge (status=1):\n",
      "STOP: TOTAL NO. of ITERATIONS REACHED LIMIT.\n",
      "\n",
      "Increase the number of iterations (max_iter) or scale the data as shown in:\n",
      "    https://scikit-learn.org/stable/modules/preprocessing.html\n",
      "Please also refer to the documentation for alternative solver options:\n",
      "    https://scikit-learn.org/stable/modules/linear_model.html#logistic-regression\n",
      "  n_iter_i = _check_optimize_result(\n",
      "C:\\Users\\Pcs\\anaconda3\\lib\\site-packages\\sklearn\\linear_model\\_logistic.py:763: ConvergenceWarning: lbfgs failed to converge (status=1):\n",
      "STOP: TOTAL NO. of ITERATIONS REACHED LIMIT.\n",
      "\n",
      "Increase the number of iterations (max_iter) or scale the data as shown in:\n",
      "    https://scikit-learn.org/stable/modules/preprocessing.html\n",
      "Please also refer to the documentation for alternative solver options:\n",
      "    https://scikit-learn.org/stable/modules/linear_model.html#logistic-regression\n",
      "  n_iter_i = _check_optimize_result(\n",
      "C:\\Users\\Pcs\\anaconda3\\lib\\site-packages\\sklearn\\linear_model\\_logistic.py:763: ConvergenceWarning: lbfgs failed to converge (status=1):\n",
      "STOP: TOTAL NO. of ITERATIONS REACHED LIMIT.\n",
      "\n",
      "Increase the number of iterations (max_iter) or scale the data as shown in:\n",
      "    https://scikit-learn.org/stable/modules/preprocessing.html\n",
      "Please also refer to the documentation for alternative solver options:\n",
      "    https://scikit-learn.org/stable/modules/linear_model.html#logistic-regression\n",
      "  n_iter_i = _check_optimize_result(\n",
      "C:\\Users\\Pcs\\anaconda3\\lib\\site-packages\\sklearn\\linear_model\\_logistic.py:763: ConvergenceWarning: lbfgs failed to converge (status=1):\n",
      "STOP: TOTAL NO. of ITERATIONS REACHED LIMIT.\n",
      "\n",
      "Increase the number of iterations (max_iter) or scale the data as shown in:\n",
      "    https://scikit-learn.org/stable/modules/preprocessing.html\n",
      "Please also refer to the documentation for alternative solver options:\n",
      "    https://scikit-learn.org/stable/modules/linear_model.html#logistic-regression\n",
      "  n_iter_i = _check_optimize_result(\n",
      "C:\\Users\\Pcs\\anaconda3\\lib\\site-packages\\sklearn\\linear_model\\_logistic.py:763: ConvergenceWarning: lbfgs failed to converge (status=1):\n",
      "STOP: TOTAL NO. of ITERATIONS REACHED LIMIT.\n",
      "\n",
      "Increase the number of iterations (max_iter) or scale the data as shown in:\n",
      "    https://scikit-learn.org/stable/modules/preprocessing.html\n",
      "Please also refer to the documentation for alternative solver options:\n",
      "    https://scikit-learn.org/stable/modules/linear_model.html#logistic-regression\n",
      "  n_iter_i = _check_optimize_result(\n",
      "C:\\Users\\Pcs\\anaconda3\\lib\\site-packages\\sklearn\\linear_model\\_logistic.py:763: ConvergenceWarning: lbfgs failed to converge (status=1):\n",
      "STOP: TOTAL NO. of ITERATIONS REACHED LIMIT.\n",
      "\n",
      "Increase the number of iterations (max_iter) or scale the data as shown in:\n",
      "    https://scikit-learn.org/stable/modules/preprocessing.html\n",
      "Please also refer to the documentation for alternative solver options:\n",
      "    https://scikit-learn.org/stable/modules/linear_model.html#logistic-regression\n",
      "  n_iter_i = _check_optimize_result(\n",
      "C:\\Users\\Pcs\\anaconda3\\lib\\site-packages\\sklearn\\linear_model\\_logistic.py:763: ConvergenceWarning: lbfgs failed to converge (status=1):\n",
      "STOP: TOTAL NO. of ITERATIONS REACHED LIMIT.\n",
      "\n",
      "Increase the number of iterations (max_iter) or scale the data as shown in:\n",
      "    https://scikit-learn.org/stable/modules/preprocessing.html\n",
      "Please also refer to the documentation for alternative solver options:\n",
      "    https://scikit-learn.org/stable/modules/linear_model.html#logistic-regression\n",
      "  n_iter_i = _check_optimize_result(\n",
      "C:\\Users\\Pcs\\anaconda3\\lib\\site-packages\\sklearn\\linear_model\\_logistic.py:763: ConvergenceWarning: lbfgs failed to converge (status=1):\n",
      "STOP: TOTAL NO. of ITERATIONS REACHED LIMIT.\n",
      "\n",
      "Increase the number of iterations (max_iter) or scale the data as shown in:\n",
      "    https://scikit-learn.org/stable/modules/preprocessing.html\n",
      "Please also refer to the documentation for alternative solver options:\n",
      "    https://scikit-learn.org/stable/modules/linear_model.html#logistic-regression\n",
      "  n_iter_i = _check_optimize_result(\n",
      "C:\\Users\\Pcs\\anaconda3\\lib\\site-packages\\sklearn\\linear_model\\_logistic.py:763: ConvergenceWarning: lbfgs failed to converge (status=1):\n",
      "STOP: TOTAL NO. of ITERATIONS REACHED LIMIT.\n",
      "\n",
      "Increase the number of iterations (max_iter) or scale the data as shown in:\n",
      "    https://scikit-learn.org/stable/modules/preprocessing.html\n",
      "Please also refer to the documentation for alternative solver options:\n",
      "    https://scikit-learn.org/stable/modules/linear_model.html#logistic-regression\n",
      "  n_iter_i = _check_optimize_result(\n",
      "C:\\Users\\Pcs\\anaconda3\\lib\\site-packages\\sklearn\\linear_model\\_logistic.py:763: ConvergenceWarning: lbfgs failed to converge (status=1):\n",
      "STOP: TOTAL NO. of ITERATIONS REACHED LIMIT.\n",
      "\n",
      "Increase the number of iterations (max_iter) or scale the data as shown in:\n",
      "    https://scikit-learn.org/stable/modules/preprocessing.html\n",
      "Please also refer to the documentation for alternative solver options:\n",
      "    https://scikit-learn.org/stable/modules/linear_model.html#logistic-regression\n",
      "  n_iter_i = _check_optimize_result(\n"
     ]
    },
    {
     "name": "stdout",
     "output_type": "stream",
     "text": [
      "LR 0.957\n",
      "SVC 0.986\n",
      "DTC 0.986\n",
      "RF 0.992\n",
      "KNN 0.975\n"
     ]
    }
   ],
   "source": [
    "from sklearn.model_selection import cross_val_score\n",
    "for estimate in estimator:\n",
    "    xe=cross_val_score(estimate[1],x_train,y_train,cv=10,scoring='accuracy')\n",
    "    print(estimate[0],np.round(np.mean(xe),3))"
   ]
  },
  {
   "cell_type": "code",
   "execution_count": null,
   "metadata": {},
   "outputs": [],
   "source": []
  },
  {
   "cell_type": "code",
   "execution_count": 58,
   "metadata": {},
   "outputs": [
    {
     "name": "stderr",
     "output_type": "stream",
     "text": [
      "C:\\Users\\Pcs\\anaconda3\\lib\\site-packages\\sklearn\\linear_model\\_logistic.py:763: ConvergenceWarning: lbfgs failed to converge (status=1):\n",
      "STOP: TOTAL NO. of ITERATIONS REACHED LIMIT.\n",
      "\n",
      "Increase the number of iterations (max_iter) or scale the data as shown in:\n",
      "    https://scikit-learn.org/stable/modules/preprocessing.html\n",
      "Please also refer to the documentation for alternative solver options:\n",
      "    https://scikit-learn.org/stable/modules/linear_model.html#logistic-regression\n",
      "  n_iter_i = _check_optimize_result(\n"
     ]
    }
   ],
   "source": [
    "hard_voting = VotingClassifier(estimators = estimator, voting ='hard') \n",
    "hard_voting.fit(x_train, y_train) \n",
    "ensemble_y_pred = hard_voting.predict(x_test) "
   ]
  },
  {
   "cell_type": "code",
   "execution_count": null,
   "metadata": {},
   "outputs": [],
   "source": []
  },
  {
   "cell_type": "code",
   "execution_count": 59,
   "metadata": {},
   "outputs": [],
   "source": [
    "ensemble_accuracy = metrics.accuracy_score(y_test,ensemble_y_pred)"
   ]
  },
  {
   "cell_type": "code",
   "execution_count": 60,
   "metadata": {},
   "outputs": [
    {
     "data": {
      "text/plain": [
       "0.9954545454545455"
      ]
     },
     "execution_count": 60,
     "metadata": {},
     "output_type": "execute_result"
    }
   ],
   "source": [
    "ensemble_accuracy"
   ]
  },
  {
   "cell_type": "code",
   "execution_count": null,
   "metadata": {},
   "outputs": [],
   "source": []
  },
  {
   "cell_type": "code",
   "execution_count": 61,
   "metadata": {},
   "outputs": [],
   "source": [
    "model.append('Ensemble')\n",
    "acc.append(metrics.accuracy_score(y_test, ensemble_y_pred))"
   ]
  },
  {
   "cell_type": "code",
   "execution_count": 62,
   "metadata": {},
   "outputs": [
    {
     "data": {
      "text/plain": [
       "<AxesSubplot:title={'center':'Accuracy Comparison'}, xlabel='Accuracy', ylabel='Algorithm'>"
      ]
     },
     "execution_count": 62,
     "metadata": {},
     "output_type": "execute_result"
    },
    {
     "data": {
      "image/png": "[encoded data removed]",
      "text/plain": [
       "<Figure size 500x200 with 1 Axes>"
      ]
     },
     "metadata": {
      "needs_background": "light"
     },
     "output_type": "display_data"
    }
   ],
   "source": [
    "plt.figure(figsize=[5,2],dpi = 100)\n",
    "plt.title('Accuracy Comparison')\n",
    "plt.xlabel('Accuracy')\n",
    "plt.ylabel('Algorithm')\n",
    "sns.barplot(x = acc,y = model,palette='hot')"
   ]
  },
  {
   "cell_type": "code",
   "execution_count": 63,
   "metadata": {},
   "outputs": [
    {
     "data": {
      "text/html": [
       "<div>\n",
       "<style scoped>\n",
       "    .dataframe tbody tr th:only-of-type {\n",
       "        vertical-align: middle;\n",
       "    }\n",
       "\n",
       "    .dataframe tbody tr th {\n",
       "        vertical-align: top;\n",
       "    }\n",
       "\n",
       "    .dataframe thead th {\n",
       "        text-align: right;\n",
       "    }\n",
       "</style>\n",
       "<table border=\"1\" class=\"dataframe\">\n",
       "  <thead>\n",
       "    <tr style=\"text-align: right;\">\n",
       "      <th></th>\n",
       "      <th>MODEL</th>\n",
       "      <th>ACCURACY</th>\n",
       "    </tr>\n",
       "  </thead>\n",
       "  <tbody>\n",
       "    <tr>\n",
       "      <th>0</th>\n",
       "      <td>Random Forest</td>\n",
       "      <td>0.979545</td>\n",
       "    </tr>\n",
       "    <tr>\n",
       "      <th>1</th>\n",
       "      <td>Decision Tree</td>\n",
       "      <td>0.990909</td>\n",
       "    </tr>\n",
       "    <tr>\n",
       "      <th>2</th>\n",
       "      <td>SVM</td>\n",
       "      <td>0.986364</td>\n",
       "    </tr>\n",
       "    <tr>\n",
       "      <th>3</th>\n",
       "      <td>KNN</td>\n",
       "      <td>0.981818</td>\n",
       "    </tr>\n",
       "    <tr>\n",
       "      <th>4</th>\n",
       "      <td>Logistic Regression</td>\n",
       "      <td>0.965909</td>\n",
       "    </tr>\n",
       "    <tr>\n",
       "      <th>5</th>\n",
       "      <td>Ensemble Model</td>\n",
       "      <td>0.995455</td>\n",
       "    </tr>\n",
       "  </tbody>\n",
       "</table>\n",
       "</div>"
      ],
      "text/plain": [
       "                 MODEL  ACCURACY\n",
       "0        Random Forest  0.979545\n",
       "1        Decision Tree  0.990909\n",
       "2                  SVM  0.986364\n",
       "3                  KNN  0.981818\n",
       "4  Logistic Regression  0.965909\n",
       "5       Ensemble Model  0.995455"
      ]
     },
     "execution_count": 63,
     "metadata": {},
     "output_type": "execute_result"
    }
   ],
   "source": [
    "\n",
    "Model_Accuracy = [['Random Forest', Random_Forest_Accuracy], ['Decision Tree', Decision_Tree_Accuracy], ['SVM', SVM_Accuracy], ['KNN', KNN_Accuracy], ['Logistic Regression', Logistic_Regression_Accuracy],['Ensemble Model',ensemble_accuracy]]\n",
    " \n",
    "Accuracy = pd.DataFrame(Model_Accuracy, columns = ['MODEL', 'ACCURACY'])\n",
    "\n",
    "Accuracy"
   ]
  },
  {
   "cell_type": "code",
   "execution_count": null,
   "metadata": {},
   "outputs": [],
   "source": []
  },
  {
   "cell_type": "code",
   "execution_count": 64,
   "metadata": {},
   "outputs": [
    {
     "data": {
      "image/png": "[encoded data removed]",
      "text/plain": [
       "<Figure size 720x720 with 1 Axes>"
      ]
     },
     "metadata": {
      "needs_background": "light"
     },
     "output_type": "display_data"
    }
   ],
   "source": [
    "sns.stripplot(y ='label', x = 'temperature', data =df)\n",
    "plt.show()"
   ]
  },
  {
   "cell_type": "code",
   "execution_count": null,
   "metadata": {},
   "outputs": [],
   "source": []
  },
  {
   "cell_type": "code",
   "execution_count": 65,
   "metadata": {},
   "outputs": [],
   "source": [
    "\n",
    "# pickle.dump(model_rf, open('modell_Rf.pkl', 'wb'))"
   ]
  },
  {
   "cell_type": "code",
   "execution_count": 66,
   "metadata": {},
   "outputs": [],
   "source": [
    "# pickle.dump(knn, open('model_knn.pkl', 'wb'))"
   ]
  },
  {
   "cell_type": "code",
   "execution_count": 67,
   "metadata": {},
   "outputs": [],
   "source": [
    "# param_grid = {\n",
    "#     'n_estimators': list(range(1,220, 20)),\n",
    "#     'max_depth': list(range(1,220, 20))\n",
    "# }\n",
    "\n",
    "# # Perform grid search on n_estimators and max_depth\n",
    "# gridsearch = GridSearchCV(estimator = model_rf, param_grid=param_grid, verbose=10, scoring='accuracy')\n",
    "# gridsearch.fit(x_train,y_train)\n",
    "\n",
    "# print('Best Score: ', gridsearch.best_score_)\n",
    "# print('Best Params: ', gridsearch.best_params_)"
   ]
  },
  {
   "cell_type": "code",
   "execution_count": 68,
   "metadata": {},
   "outputs": [],
   "source": [
    "# from sklearn.model_selection import GridSearchCV\n",
    "# #List Hyperparameters that we want to tune.\n",
    "# leaf_size = list(range(1,50))\n",
    "# n_neighbors = list(range(1,30))\n",
    "# p=[1,2]\n",
    "# #Convert to dictionary\n",
    "# hyperparameters = dict(leaf_size=leaf_size, n_neighbors=n_neighbors, p=p)\n",
    "# #Create new KNN object\n",
    "# knn_2 = KNeighborsClassifier()\n",
    "# #Use GridSearch\n",
    "# clf = GridSearchCV(knn_2, hyperparameters, cv=10)\n",
    "# #Fit the model\n",
    "# best_model = clf.fit(x_train,y_train)\n",
    "# #Print The value of best Hyperparameters\n",
    "# print('Best leaf_size:', best_model.best_estimator_.get_params()['leaf_size'])\n",
    "# print('Best p:', best_model.best_estimator_.get_params()['p'])\n",
    "# print('Best n_neighbors:', best_model.best_estimator_.get_params()['n_neighbors'])"
   ]
  },
  {
   "cell_type": "code",
   "execution_count": 69,
   "metadata": {},
   "outputs": [],
   "source": [
    "# import pickle #credits to stack overflow user= blender\n",
    "\n",
    "\n",
    "\n",
    "# with open('accuracy.pkl', 'wb') as handle:\n",
    "#     pickle.dump(acc, handle, protocol=pickle.HIGHEST_PROTOCOL)\n",
    "# with open('model_names.pkl', 'wb') as handle:\n",
    "#     pickle.dump(model, handle, protocol=pickle.HIGHEST_PROTOCOL)\n",
    "\n",
    "# # with open('filename.pkl', 'rb') as handle:\n",
    "# #     b = pickle.load(handle)\n",
    "\n",
    "# print (a)"
   ]
  },
  {
   "cell_type": "code",
   "execution_count": null,
   "metadata": {},
   "outputs": [],
   "source": []
  },
  {
   "cell_type": "code",
   "execution_count": 70,
   "metadata": {},
   "outputs": [],
   "source": [
    "# pickle_out = open(\"Ensemb_M.pkl\",\"wb\")\n",
    "# pickle.dump(hard_voting,pickle_out)\n",
    "# pickle_out.close() "
   ]
  },
  {
   "cell_type": "code",
   "execution_count": 71,
   "metadata": {},
   "outputs": [],
   "source": [
    "# pickle.dump(df.to_dict(),open('data_set.pkl','wb'))"
   ]
  },
  {
   "cell_type": "code",
   "execution_count": 79,
   "metadata": {},
   "outputs": [],
   "source": []
  },
  {
   "cell_type": "code",
   "execution_count": 80,
   "metadata": {},
   "outputs": [],
   "source": []
  },
  {
   "cell_type": "code",
   "execution_count": null,
   "metadata": {},
   "outputs": [],
   "source": []
  },
  {
   "cell_type": "code",
   "execution_count": null,
   "metadata": {},
   "outputs": [],
   "source": []
  },
  {
   "cell_type": "code",
   "execution_count": null,
   "metadata": {},
   "outputs": [],
   "source": []
  },
  {
   "cell_type": "code",
   "execution_count": null,
   "metadata": {},
   "outputs": [],
   "source": []
  },
  {
   "cell_type": "code",
   "execution_count": null,
   "metadata": {},
   "outputs": [],
   "source": []
  },
  {
   "cell_type": "code",
   "execution_count": null,
   "metadata": {},
   "outputs": [],
   "source": []
  },
  {
   "cell_type": "code",
   "execution_count": null,
   "metadata": {},
   "outputs": [],
   "source": []
  },
  {
   "cell_type": "code",
   "execution_count": null,
   "metadata": {},
   "outputs": [],
   "source": []
  }
 ],
 "metadata": {
  "kernelspec": {
   "display_name": "Python 3 (ipykernel)",
   "language": "python",
   "name": "python3"
  },
  "language_info": {
   "codemirror_mode": {
    "name": "ipython",
    "version": 3
   },
   "file_extension": ".py",
   "mimetype": "text/x-python",
   "name": "python",
   "nbconvert_exporter": "python",
   "pygments_lexer": "ipython3",
   "version": "3.9.7"
  }
 },
 "nbformat": 4,
 "nbformat_minor": 4
}
